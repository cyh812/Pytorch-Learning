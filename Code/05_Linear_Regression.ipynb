{
 "cells": [
  {
   "cell_type": "code",
   "execution_count": 7,
   "metadata": {},
   "outputs": [],
   "source": [
    "import torch\n",
    "x_data = torch.Tensor([[1.0], [2.0], [3.0]])\n",
    "y_data = torch.Tensor([[2.0], [4.0], [6.0]])"
   ]
  },
  {
   "cell_type": "code",
   "execution_count": 8,
   "metadata": {},
   "outputs": [],
   "source": [
    "class LinearModel(torch.nn.Module):\n",
    "    def __init__(self):\n",
    "        super(LinearModel, self).__init__()\n",
    "        self.linear = torch.nn.Linear(1, 1)\n",
    "    def forward(self, x):\n",
    "        y_pred = self.linear(x)\n",
    "        return y_pred\n",
    "\n",
    "model = LinearModel()"
   ]
  },
  {
   "cell_type": "code",
   "execution_count": 9,
   "metadata": {},
   "outputs": [],
   "source": [
    "criterion = torch.nn.MSELoss(reduction='sum')  # 或 'mean'，视需要而定\n",
    "optimizer = torch.optim.SGD(model.parameters(), lr=0.01)"
   ]
  },
  {
   "cell_type": "code",
   "execution_count": 10,
   "metadata": {},
   "outputs": [
    {
     "name": "stdout",
     "output_type": "stream",
     "text": [
      "0 tensor(8.2243, grad_fn=<MseLossBackward0>)\n",
      "1 tensor(3.8757, grad_fn=<MseLossBackward0>)\n",
      "2 tensor(1.9367, grad_fn=<MseLossBackward0>)\n",
      "3 tensor(1.0705, grad_fn=<MseLossBackward0>)\n",
      "4 tensor(0.6819, grad_fn=<MseLossBackward0>)\n",
      "5 tensor(0.5059, grad_fn=<MseLossBackward0>)\n",
      "6 tensor(0.4247, grad_fn=<MseLossBackward0>)\n",
      "7 tensor(0.3857, grad_fn=<MseLossBackward0>)\n",
      "8 tensor(0.3655, grad_fn=<MseLossBackward0>)\n",
      "9 tensor(0.3537, grad_fn=<MseLossBackward0>)\n",
      "10 tensor(0.3457, grad_fn=<MseLossBackward0>)\n",
      "11 tensor(0.3394, grad_fn=<MseLossBackward0>)\n",
      "12 tensor(0.3340, grad_fn=<MseLossBackward0>)\n",
      "13 tensor(0.3289, grad_fn=<MseLossBackward0>)\n",
      "14 tensor(0.3241, grad_fn=<MseLossBackward0>)\n",
      "15 tensor(0.3194, grad_fn=<MseLossBackward0>)\n",
      "16 tensor(0.3148, grad_fn=<MseLossBackward0>)\n",
      "17 tensor(0.3102, grad_fn=<MseLossBackward0>)\n",
      "18 tensor(0.3058, grad_fn=<MseLossBackward0>)\n",
      "19 tensor(0.3014, grad_fn=<MseLossBackward0>)\n",
      "20 tensor(0.2970, grad_fn=<MseLossBackward0>)\n",
      "21 tensor(0.2928, grad_fn=<MseLossBackward0>)\n",
      "22 tensor(0.2886, grad_fn=<MseLossBackward0>)\n",
      "23 tensor(0.2844, grad_fn=<MseLossBackward0>)\n",
      "24 tensor(0.2803, grad_fn=<MseLossBackward0>)\n",
      "25 tensor(0.2763, grad_fn=<MseLossBackward0>)\n",
      "26 tensor(0.2723, grad_fn=<MseLossBackward0>)\n",
      "27 tensor(0.2684, grad_fn=<MseLossBackward0>)\n",
      "28 tensor(0.2646, grad_fn=<MseLossBackward0>)\n",
      "29 tensor(0.2608, grad_fn=<MseLossBackward0>)\n",
      "30 tensor(0.2570, grad_fn=<MseLossBackward0>)\n",
      "31 tensor(0.2533, grad_fn=<MseLossBackward0>)\n",
      "32 tensor(0.2497, grad_fn=<MseLossBackward0>)\n",
      "33 tensor(0.2461, grad_fn=<MseLossBackward0>)\n",
      "34 tensor(0.2426, grad_fn=<MseLossBackward0>)\n",
      "35 tensor(0.2391, grad_fn=<MseLossBackward0>)\n",
      "36 tensor(0.2356, grad_fn=<MseLossBackward0>)\n",
      "37 tensor(0.2322, grad_fn=<MseLossBackward0>)\n",
      "38 tensor(0.2289, grad_fn=<MseLossBackward0>)\n",
      "39 tensor(0.2256, grad_fn=<MseLossBackward0>)\n",
      "40 tensor(0.2224, grad_fn=<MseLossBackward0>)\n",
      "41 tensor(0.2192, grad_fn=<MseLossBackward0>)\n",
      "42 tensor(0.2160, grad_fn=<MseLossBackward0>)\n",
      "43 tensor(0.2129, grad_fn=<MseLossBackward0>)\n",
      "44 tensor(0.2099, grad_fn=<MseLossBackward0>)\n",
      "45 tensor(0.2069, grad_fn=<MseLossBackward0>)\n",
      "46 tensor(0.2039, grad_fn=<MseLossBackward0>)\n",
      "47 tensor(0.2009, grad_fn=<MseLossBackward0>)\n",
      "48 tensor(0.1981, grad_fn=<MseLossBackward0>)\n",
      "49 tensor(0.1952, grad_fn=<MseLossBackward0>)\n",
      "50 tensor(0.1924, grad_fn=<MseLossBackward0>)\n",
      "51 tensor(0.1896, grad_fn=<MseLossBackward0>)\n",
      "52 tensor(0.1869, grad_fn=<MseLossBackward0>)\n",
      "53 tensor(0.1842, grad_fn=<MseLossBackward0>)\n",
      "54 tensor(0.1816, grad_fn=<MseLossBackward0>)\n",
      "55 tensor(0.1790, grad_fn=<MseLossBackward0>)\n",
      "56 tensor(0.1764, grad_fn=<MseLossBackward0>)\n",
      "57 tensor(0.1739, grad_fn=<MseLossBackward0>)\n",
      "58 tensor(0.1714, grad_fn=<MseLossBackward0>)\n",
      "59 tensor(0.1689, grad_fn=<MseLossBackward0>)\n",
      "60 tensor(0.1665, grad_fn=<MseLossBackward0>)\n",
      "61 tensor(0.1641, grad_fn=<MseLossBackward0>)\n",
      "62 tensor(0.1617, grad_fn=<MseLossBackward0>)\n",
      "63 tensor(0.1594, grad_fn=<MseLossBackward0>)\n",
      "64 tensor(0.1571, grad_fn=<MseLossBackward0>)\n",
      "65 tensor(0.1549, grad_fn=<MseLossBackward0>)\n",
      "66 tensor(0.1526, grad_fn=<MseLossBackward0>)\n",
      "67 tensor(0.1504, grad_fn=<MseLossBackward0>)\n",
      "68 tensor(0.1483, grad_fn=<MseLossBackward0>)\n",
      "69 tensor(0.1461, grad_fn=<MseLossBackward0>)\n",
      "70 tensor(0.1440, grad_fn=<MseLossBackward0>)\n",
      "71 tensor(0.1420, grad_fn=<MseLossBackward0>)\n",
      "72 tensor(0.1399, grad_fn=<MseLossBackward0>)\n",
      "73 tensor(0.1379, grad_fn=<MseLossBackward0>)\n",
      "74 tensor(0.1359, grad_fn=<MseLossBackward0>)\n",
      "75 tensor(0.1340, grad_fn=<MseLossBackward0>)\n",
      "76 tensor(0.1321, grad_fn=<MseLossBackward0>)\n",
      "77 tensor(0.1302, grad_fn=<MseLossBackward0>)\n",
      "78 tensor(0.1283, grad_fn=<MseLossBackward0>)\n",
      "79 tensor(0.1264, grad_fn=<MseLossBackward0>)\n",
      "80 tensor(0.1246, grad_fn=<MseLossBackward0>)\n",
      "81 tensor(0.1228, grad_fn=<MseLossBackward0>)\n",
      "82 tensor(0.1211, grad_fn=<MseLossBackward0>)\n",
      "83 tensor(0.1193, grad_fn=<MseLossBackward0>)\n",
      "84 tensor(0.1176, grad_fn=<MseLossBackward0>)\n",
      "85 tensor(0.1159, grad_fn=<MseLossBackward0>)\n",
      "86 tensor(0.1143, grad_fn=<MseLossBackward0>)\n",
      "87 tensor(0.1126, grad_fn=<MseLossBackward0>)\n",
      "88 tensor(0.1110, grad_fn=<MseLossBackward0>)\n",
      "89 tensor(0.1094, grad_fn=<MseLossBackward0>)\n",
      "90 tensor(0.1078, grad_fn=<MseLossBackward0>)\n",
      "91 tensor(0.1063, grad_fn=<MseLossBackward0>)\n",
      "92 tensor(0.1048, grad_fn=<MseLossBackward0>)\n",
      "93 tensor(0.1033, grad_fn=<MseLossBackward0>)\n",
      "94 tensor(0.1018, grad_fn=<MseLossBackward0>)\n",
      "95 tensor(0.1003, grad_fn=<MseLossBackward0>)\n",
      "96 tensor(0.0989, grad_fn=<MseLossBackward0>)\n",
      "97 tensor(0.0974, grad_fn=<MseLossBackward0>)\n",
      "98 tensor(0.0960, grad_fn=<MseLossBackward0>)\n",
      "99 tensor(0.0947, grad_fn=<MseLossBackward0>)\n"
     ]
    }
   ],
   "source": [
    "for epoch in range(100):\n",
    "    y_pred = model(x_data)\n",
    "    loss = criterion(y_pred, y_data)\n",
    "    print(epoch, loss)\n",
    "    optimizer.zero_grad()\n",
    "    loss.backward()\n",
    "    optimizer.step()"
   ]
  },
  {
   "cell_type": "code",
   "execution_count": 11,
   "metadata": {},
   "outputs": [
    {
     "name": "stdout",
     "output_type": "stream",
     "text": [
      "w =  1.7951771020889282\n",
      "b =  0.4656103849411011\n",
      "y_pred =  tensor([[7.6463]])\n"
     ]
    }
   ],
   "source": [
    "# Output weight and bias\n",
    "print('w = ', model.linear.weight.item())\n",
    "print('b = ', model.linear.bias.item())\n",
    "# Test Model\n",
    "x_test = torch.Tensor([[4.0]])\n",
    "y_test = model(x_test)\n",
    "print('y_pred = ', y_test.data)"
   ]
  }
 ],
 "metadata": {
  "kernelspec": {
   "display_name": "LiMu",
   "language": "python",
   "name": "python3"
  },
  "language_info": {
   "codemirror_mode": {
    "name": "ipython",
    "version": 3
   },
   "file_extension": ".py",
   "mimetype": "text/x-python",
   "name": "python",
   "nbconvert_exporter": "python",
   "pygments_lexer": "ipython3",
   "version": "3.10.14"
  }
 },
 "nbformat": 4,
 "nbformat_minor": 2
}
