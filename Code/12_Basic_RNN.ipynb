{
 "cells": [
  {
   "cell_type": "code",
   "execution_count": 1,
   "metadata": {},
   "outputs": [
    {
     "name": "stdout",
     "output_type": "stream",
     "text": [
      "==================== 0 ====================\n",
      "Input size:  torch.Size([1, 4])\n",
      "outputs size:  torch.Size([1, 2])\n",
      "tensor([[-0.4079,  0.3582]], grad_fn=<TanhBackward0>)\n",
      "==================== 1 ====================\n",
      "Input size:  torch.Size([1, 4])\n",
      "outputs size:  torch.Size([1, 2])\n",
      "tensor([[-0.1538,  0.8657]], grad_fn=<TanhBackward0>)\n",
      "==================== 2 ====================\n",
      "Input size:  torch.Size([1, 4])\n",
      "outputs size:  torch.Size([1, 2])\n",
      "tensor([[-0.7359, -0.0997]], grad_fn=<TanhBackward0>)\n"
     ]
    }
   ],
   "source": [
    "# RNNcell的使用\n",
    "import torch\n",
    "\n",
    "batch_size = 1\n",
    "seq_len = 3\n",
    "input_size = 4\n",
    "hidden_size = 2\n",
    "\n",
    "cell = torch.nn.RNNCell(input_size=input_size, hidden_size=hidden_size)\n",
    "\n",
    "# (seq, batch, features)\n",
    "dataset = torch.randn(seq_len, batch_size, input_size)\n",
    "hidden = torch.zeros(batch_size, hidden_size)\n",
    "\n",
    "for idx, input in enumerate(dataset):\n",
    "    print('=' * 20, idx, '=' * 20)\n",
    "    print('Input size: ', input.shape)\n",
    "    hidden = cell(input, hidden)\n",
    "    print('outputs size: ', hidden.shape)\n",
    "    print(hidden)\n"
   ]
  },
  {
   "cell_type": "code",
   "execution_count": 2,
   "metadata": {},
   "outputs": [
    {
     "name": "stdout",
     "output_type": "stream",
     "text": [
      "Output size: torch.Size([3, 1, 2])\n",
      "Output: tensor([[[-0.6788, -0.2607]],\n",
      "\n",
      "        [[ 0.5818,  0.4645]],\n",
      "\n",
      "        [[ 0.8616, -0.3624]]], grad_fn=<StackBackward0>)\n",
      "Hidden size:  torch.Size([1, 1, 2])\n",
      "Hidden:  tensor([[[ 0.8616, -0.3624]]], grad_fn=<StackBackward0>)\n"
     ]
    }
   ],
   "source": [
    "# RNN的使用\n",
    "import torch\n",
    "batch_size = 1\n",
    "seq_len = 3\n",
    "input_size = 4\n",
    "hidden_size = 2\n",
    "num_layers = 1\n",
    "cell = torch.nn.RNN(input_size=input_size, hidden_size=hidden_size,\n",
    "num_layers=num_layers)\n",
    "# (seqLen, batchSize, inputSize)\n",
    "inputs = torch.randn(seq_len, batch_size, input_size)\n",
    "hidden = torch.zeros(num_layers, batch_size, hidden_size)\n",
    "out, hidden = cell(inputs, hidden)\n",
    "print('Output size:', out.shape)\n",
    "print('Output:', out)\n",
    "print('Hidden size: ', hidden.shape)\n",
    "print('Hidden: ', hidden)"
   ]
  },
  {
   "cell_type": "code",
   "execution_count": 3,
   "metadata": {},
   "outputs": [],
   "source": [
    "import torch\n",
    "input_size = 4\n",
    "hidden_size = 4\n",
    "batch_size = 1\n",
    "\n",
    "idx2char = ['e', 'h', 'l', 'o']\n",
    "x_data = [1, 0, 2, 2, 3]\n",
    "y_data = [3, 1, 2, 3, 2]\n",
    "one_hot_lookup = [[1, 0, 0, 0],\n",
    "[0, 1, 0, 0],\n",
    "[0, 0, 1, 0],\n",
    "[0, 0, 0, 1]]\n",
    "x_one_hot = [one_hot_lookup[x] for x in x_data]\n",
    "inputs = torch.Tensor(x_one_hot).view(-1, batch_size, input_size)\n",
    "labels = torch.LongTensor(y_data).view(-1, 1)\n"
   ]
  },
  {
   "cell_type": "code",
   "execution_count": null,
   "metadata": {},
   "outputs": [],
   "source": [
    "class Model(torch.nn.Module):\n",
    "    def __init__(self, input_size, hidden_size, batch_size):\n",
    "        super(Model, self).__init__()\n",
    "        self.batch_size = batch_size\n",
    "        self.input_size = input_size\n",
    "        self.hidden_size = hidden_size\n",
    "        self.rnncell = torch.nn.RNNCell(input_size=self.input_size,\n",
    "        hidden_size=self.hidden_size)\n",
    "    def forward(self, input, hidden):\n",
    "        hidden = self.rnncell(input, hidden)\n",
    "        return hidden\n",
    "    def init_hidden(self):\n",
    "        return torch.zeros(self.batch_size, self.hidden_size)\n",
    "\n",
    "net = Model(input_size, hidden_size, batch_size)\n"
   ]
  },
  {
   "cell_type": "code",
   "execution_count": 6,
   "metadata": {},
   "outputs": [],
   "source": [
    "criterion = torch.nn.CrossEntropyLoss()\n",
    "optimizer = torch.optim.Adam(net.parameters(), lr=0.1)"
   ]
  },
  {
   "cell_type": "code",
   "execution_count": null,
   "metadata": {},
   "outputs": [
    {
     "name": "stdout",
     "output_type": "stream",
     "text": [
      "Predicted string: eeeee, Epoch [1/15] loss=9.1616\n",
      "Predicted string: eelle, Epoch [2/15] loss=7.7158\n",
      "Predicted string: helle, Epoch [3/15] loss=6.6707\n",
      "Predicted string: hhlle, Epoch [4/15] loss=5.9201\n",
      "Predicted string: hhloo, Epoch [5/15] loss=5.3216\n",
      "Predicted string: hhlol, Epoch [6/15] loss=4.8252\n",
      "Predicted string: ohlol, Epoch [7/15] loss=4.4533\n",
      "Predicted string: ohlol, Epoch [8/15] loss=4.1644\n",
      "Predicted string: ohool, Epoch [9/15] loss=3.9034\n",
      "Predicted string: ohool, Epoch [10/15] loss=3.6751\n",
      "Predicted string: ohool, Epoch [11/15] loss=3.4912\n",
      "Predicted string: ohool, Epoch [12/15] loss=3.3286\n",
      "Predicted string: ohool, Epoch [13/15] loss=3.1704\n",
      "Predicted string: ohool, Epoch [14/15] loss=3.0235\n",
      "Predicted string: ohool, Epoch [15/15] loss=2.8979\n"
     ]
    }
   ],
   "source": [
    "for epoch in range(15):\n",
    "    loss = 0\n",
    "    optimizer.zero_grad()\n",
    "    hidden = net.init_hidden()\n",
    "    print('Predicted string: ', end='')\n",
    "    for input, label in zip(inputs, labels):\n",
    "        hidden = net(input, hidden)\n",
    "        loss += criterion(hidden, label)\n",
    "        _, idx = hidden.max(dim=1)\n",
    "        print(idx2char[idx.item()], end='')\n",
    "    loss.backward()\n",
    "    optimizer.step()\n",
    "    print(', Epoch [%d/15] loss=%.4f' % (epoch+1, loss.item()))\n",
    "\n",
    "# 用RNN模式也可以试试 "
   ]
  }
 ],
 "metadata": {
  "kernelspec": {
   "display_name": "LiMu",
   "language": "python",
   "name": "python3"
  },
  "language_info": {
   "codemirror_mode": {
    "name": "ipython",
    "version": 3
   },
   "file_extension": ".py",
   "mimetype": "text/x-python",
   "name": "python",
   "nbconvert_exporter": "python",
   "pygments_lexer": "ipython3",
   "version": "3.10.14"
  }
 },
 "nbformat": 4,
 "nbformat_minor": 2
}
