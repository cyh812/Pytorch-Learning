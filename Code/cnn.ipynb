{
 "cells": [
  {
   "cell_type": "code",
   "execution_count": 44,
   "metadata": {},
   "outputs": [],
   "source": [
    "import torch\n",
    "\n",
    "num_class = 4\n",
    "input_size = 4\n",
    "hidden_size = 8\n",
    "embedding_size = 10\n",
    "num_layers = 2\n",
    "batch_size = 1\n",
    "seq_len = 5\n"
   ]
  },
  {
   "cell_type": "code",
   "execution_count": 45,
   "metadata": {},
   "outputs": [],
   "source": [
    "idx2char = ['e', 'h', 'l', 'o']\n",
    "x_data = [1, 0, 2, 2, 3]\n",
    "y_data = [3, 1, 2, 3, 2]\n",
    "one_hot_lookup = [[1, 0, 0, 0],\n",
    "                    [0, 1, 0, 0],\n",
    "                    [0, 0, 1, 0],\n",
    "                    [0, 0, 0, 1]]\n",
    "x_one_hot = [one_hot_lookup[x] for x in x_data]\n",
    "inputs = torch.LongTensor(x_data).view(1,-1)\n",
    "labels = torch.LongTensor(y_data)"
   ]
  },
  {
   "cell_type": "code",
   "execution_count": 46,
   "metadata": {},
   "outputs": [],
   "source": [
    "class Model(torch.nn.Module):\n",
    "    def __init__(self):\n",
    "        super(Model, self).__init__()\n",
    "        self.emb = torch.nn.Embedding(input_size, embedding_size)\n",
    "        self.rnn = torch.nn.RNN(input_size=embedding_size,\n",
    "                                hidden_size=hidden_size,\n",
    "                                num_layers=num_layers,\n",
    "                                batch_first=True)\n",
    "        self.fc = torch.nn.Linear(hidden_size, num_class)\n",
    "\n",
    "    def forward(self, x):\n",
    "        # 初始化 hidden，维度应为 (num_layers, batch_size, hidden_size)\n",
    "        hidden = torch.zeros(num_layers, batch_size, hidden_size)\n",
    "        x = self.emb(x)  # (batch, seq_len, embedding_size)\n",
    "        x, _ = self.rnn(x, hidden)  # 传入 RNN\n",
    "        x = self.fc(x)  # (batch, seq_len, num_class)\n",
    "        return x.view(-1, num_class)\n",
    "\n",
    "\n",
    "net = Model()"
   ]
  },
  {
   "cell_type": "code",
   "execution_count": 47,
   "metadata": {},
   "outputs": [],
   "source": [
    "criterion = torch.nn.CrossEntropyLoss()\n",
    "optimizer = torch.optim.Adam(net.parameters(), lr=0.1)"
   ]
  },
  {
   "cell_type": "code",
   "execution_count": 48,
   "metadata": {},
   "outputs": [
    {
     "name": "stdout",
     "output_type": "stream",
     "text": [
      "Predicted:  ooooo, Epoch [1/15] loss = 1.508\n",
      "Predicted:  ooooo, Epoch [2/15] loss = 1.102\n",
      "Predicted:  ohlol, Epoch [3/15] loss = 0.715\n",
      "Predicted:  lhlol, Epoch [4/15] loss = 0.509\n",
      "Predicted:  ohlol, Epoch [5/15] loss = 0.345\n",
      "Predicted:  ohlol, Epoch [6/15] loss = 0.210\n",
      "Predicted:  ohlol, Epoch [7/15] loss = 0.110\n",
      "Predicted:  ohlol, Epoch [8/15] loss = 0.054\n",
      "Predicted:  ohlol, Epoch [9/15] loss = 0.029\n",
      "Predicted:  ohlol, Epoch [10/15] loss = 0.017\n",
      "Predicted:  ohlol, Epoch [11/15] loss = 0.011\n",
      "Predicted:  ohlol, Epoch [12/15] loss = 0.007\n",
      "Predicted:  ohlol, Epoch [13/15] loss = 0.005\n",
      "Predicted:  ohlol, Epoch [14/15] loss = 0.003\n",
      "Predicted:  ohlol, Epoch [15/15] loss = 0.002\n"
     ]
    }
   ],
   "source": [
    "for epoch in range(15):\n",
    "    optimizer.zero_grad()\n",
    "    outputs = net(inputs)\n",
    "    loss = criterion(outputs, labels)\n",
    "    loss.backward()\n",
    "    optimizer.step()\n",
    "    _, idx = outputs.max(dim=1)\n",
    "    idx = idx.data.numpy()\n",
    "    print('Predicted: ', ''.join([idx2char[x] for x in idx]), end='')\n",
    "    print(', Epoch [%d/15] loss = %.3f' % (epoch + 1, loss.item()))\n"
   ]
  }
 ],
 "metadata": {
  "kernelspec": {
   "display_name": "LiMu",
   "language": "python",
   "name": "python3"
  },
  "language_info": {
   "codemirror_mode": {
    "name": "ipython",
    "version": 3
   },
   "file_extension": ".py",
   "mimetype": "text/x-python",
   "name": "python",
   "nbconvert_exporter": "python",
   "pygments_lexer": "ipython3",
   "version": "3.10.14"
  }
 },
 "nbformat": 4,
 "nbformat_minor": 2
}
